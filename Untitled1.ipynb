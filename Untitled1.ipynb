{
 "cells": [
  {
   "cell_type": "code",
   "execution_count": 2,
   "metadata": {},
   "outputs": [
    {
     "name": "stdout",
     "output_type": "stream",
     "text": [
      "KFold(n_splits=2, random_state=None, shuffle=False)\n"
     ]
    }
   ],
   "source": [
    "import numpy as np\n",
    "from sklearn.model_selection import KFold # import KFold\n",
    "X = np.array([[1, 2], [3, 4], [1, 2], [3, 4]]) # create an array\n",
    "y = np.array([1, 2, 3, 4]) # Create another array\n",
    "kf = KFold(n_splits=2) # Define the split - into 2 folds \n",
    "kf.get_n_splits(X) # returns the number of splitting iterations in the cross-validator\n",
    "print(kf) \n",
    "#KFold(n_splits=2, random_state=None, shuffle=False)"
   ]
  },
  {
   "cell_type": "code",
   "execution_count": 3,
   "metadata": {},
   "outputs": [
    {
     "name": "stdout",
     "output_type": "stream",
     "text": [
      "TRAIN: [2 3] TEST: [0 1]\n",
      "TRAIN: [0 1] TEST: [2 3]\n"
     ]
    }
   ],
   "source": [
    "for train_index, test_index in kf.split(X):\n",
    "    print('TRAIN:', train_index, 'TEST:', test_index)\n",
    "    X_train, X_test = X[train_index], X[test_index]\n",
    "    y_train, y_test = y[train_index], y[test_index]\n",
    "    "
   ]
  },
  {
   "cell_type": "code",
   "execution_count": 4,
   "metadata": {},
   "outputs": [
    {
     "data": {
      "text/plain": [
       "array([1, 2])"
      ]
     },
     "execution_count": 4,
     "metadata": {},
     "output_type": "execute_result"
    }
   ],
   "source": [
    "X_train[0]"
   ]
  },
  {
   "cell_type": "code",
   "execution_count": 5,
   "metadata": {},
   "outputs": [
    {
     "data": {
      "text/plain": [
       "array([1, 2])"
      ]
     },
     "execution_count": 5,
     "metadata": {},
     "output_type": "execute_result"
    }
   ],
   "source": [
    "y_train"
   ]
  },
  {
   "cell_type": "code",
   "execution_count": 6,
   "metadata": {},
   "outputs": [
    {
     "ename": "NameError",
     "evalue": "name 'array' is not defined",
     "output_type": "error",
     "traceback": [
      "\u001b[1;31m---------------------------------------------------------------------------\u001b[0m",
      "\u001b[1;31mNameError\u001b[0m                                 Traceback (most recent call last)",
      "\u001b[1;32m<ipython-input-6-f42c20fb74b9>\u001b[0m in \u001b[0;36m<module>\u001b[1;34m\u001b[0m\n\u001b[0;32m      3\u001b[0m \u001b[0my_test\u001b[0m\u001b[1;33m=\u001b[0m\u001b[1;33m[\u001b[0m\u001b[1;34m'business'\u001b[0m\u001b[1;33m,\u001b[0m \u001b[1;34m'business'\u001b[0m\u001b[1;33m,\u001b[0m \u001b[1;34m'business'\u001b[0m\u001b[1;33m,\u001b[0m \u001b[1;34m'business'\u001b[0m\u001b[1;33m,\u001b[0m \u001b[1;34m'business'\u001b[0m\u001b[1;33m,\u001b[0m \u001b[1;34m'business'\u001b[0m\u001b[1;33m,\u001b[0m \u001b[1;34m'business'\u001b[0m\u001b[1;33m,\u001b[0m \u001b[1;34m'business'\u001b[0m\u001b[1;33m,\u001b[0m \u001b[1;34m'business'\u001b[0m\u001b[1;33m,\u001b[0m \u001b[1;34m'business'\u001b[0m\u001b[1;33m,\u001b[0m \u001b[1;34m'business'\u001b[0m\u001b[1;33m,\u001b[0m \u001b[1;34m'business'\u001b[0m\u001b[1;33m,\u001b[0m \u001b[1;34m'business'\u001b[0m\u001b[1;33m,\u001b[0m \u001b[1;34m'business'\u001b[0m\u001b[1;33m,\u001b[0m \u001b[1;34m'business'\u001b[0m\u001b[1;33m,\u001b[0m \u001b[1;34m'business'\u001b[0m\u001b[1;33m,\u001b[0m \u001b[1;34m'business'\u001b[0m\u001b[1;33m,\u001b[0m \u001b[1;34m'business'\u001b[0m\u001b[1;33m,\u001b[0m \u001b[1;34m'business'\u001b[0m\u001b[1;33m,\u001b[0m \u001b[1;34m'business'\u001b[0m\u001b[1;33m]\u001b[0m\u001b[1;33m\u001b[0m\u001b[1;33m\u001b[0m\u001b[0m\n\u001b[0;32m      4\u001b[0m \u001b[1;33m\u001b[0m\u001b[0m\n\u001b[1;32m----> 5\u001b[1;33m pred=array(['health', 'business', 'business', 'business', 'business',\n\u001b[0m\u001b[0;32m      6\u001b[0m        \u001b[1;34m'business'\u001b[0m\u001b[1;33m,\u001b[0m \u001b[1;34m'health'\u001b[0m\u001b[1;33m,\u001b[0m \u001b[1;34m'health'\u001b[0m\u001b[1;33m,\u001b[0m \u001b[1;34m'business'\u001b[0m\u001b[1;33m,\u001b[0m \u001b[1;34m'business'\u001b[0m\u001b[1;33m,\u001b[0m \u001b[1;34m'business'\u001b[0m\u001b[1;33m,\u001b[0m\u001b[1;33m\u001b[0m\u001b[1;33m\u001b[0m\u001b[0m\n\u001b[0;32m      7\u001b[0m        \u001b[1;34m'business'\u001b[0m\u001b[1;33m,\u001b[0m \u001b[1;34m'business'\u001b[0m\u001b[1;33m,\u001b[0m \u001b[1;34m'business'\u001b[0m\u001b[1;33m,\u001b[0m \u001b[1;34m'business'\u001b[0m\u001b[1;33m,\u001b[0m \u001b[1;34m'business'\u001b[0m\u001b[1;33m,\u001b[0m\u001b[1;33m\u001b[0m\u001b[1;33m\u001b[0m\u001b[0m\n",
      "\u001b[1;31mNameError\u001b[0m: name 'array' is not defined"
     ]
    }
   ],
   "source": [
    "from sklearn.metrics import confusion_matrix\n",
    "import pylab as pl\n",
    "y_test=['business', 'business', 'business', 'business', 'business', 'business', 'business', 'business', 'business', 'business', 'business', 'business', 'business', 'business', 'business', 'business', 'business', 'business', 'business', 'business']\n",
    "\n",
    "pred=array(['health', 'business', 'business', 'business', 'business',\n",
    "       'business', 'health', 'health', 'business', 'business', 'business',\n",
    "       'business', 'business', 'business', 'business', 'business',\n",
    "       'health', 'health', 'business', 'health'], \n",
    "      dtype='|S8')\n",
    "\n",
    "cm = confusion_matrix(y_test, pred)\n",
    "pl.matshow(cm)\n",
    "pl.title('Confusion matrix of the classifier')\n",
    "pl.colorbar()\n",
    "pl.show()"
   ]
  },
  {
   "cell_type": "code",
   "execution_count": null,
   "metadata": {},
   "outputs": [],
   "source": []
  }
 ],
 "metadata": {
  "kernelspec": {
   "display_name": "Python 3",
   "language": "python",
   "name": "python3"
  }
 },
 "nbformat": 4,
 "nbformat_minor": 2
}
