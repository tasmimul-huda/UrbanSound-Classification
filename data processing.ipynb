{
 "cells": [
  {
   "cell_type": "code",
   "execution_count": 1,
   "id": "3630b688-3794-4403-b1d4-bf021b1183b2",
   "metadata": {},
   "outputs": [],
   "source": [
    "import numpy as np\n",
    "import matplotlib.pyplot as plt\n",
    "import os\n",
    "import cv2\n",
    "from tqdm import tqdm\n",
    "from tensorflow.keras.utils import to_categorical "
   ]
  },
  {
   "cell_type": "code",
   "execution_count": 2,
   "id": "0ac01d11-b0d4-4bbc-a046-c8d30c618cd7",
   "metadata": {},
   "outputs": [],
   "source": [
    "DATADIR = \"D:/THESIS/Spectrogram/\""
   ]
  },
  {
   "cell_type": "code",
   "execution_count": 3,
   "id": "eb8aace0-b1c6-491c-aa88-2026b979d654",
   "metadata": {},
   "outputs": [],
   "source": [
    "categories = os.listdir(DATADIR)"
   ]
  },
  {
   "cell_type": "code",
   "execution_count": 4,
   "id": "44655854-2359-4f6e-b437-314a0db7a18c",
   "metadata": {},
   "outputs": [
    {
     "data": {
      "text/plain": [
       "['air_conditioner',\n",
       " 'car_horn',\n",
       " 'children_playing',\n",
       " 'dog_bark',\n",
       " 'drilling',\n",
       " 'engine_idling',\n",
       " 'gun_shot',\n",
       " 'jackhammer',\n",
       " 'siren',\n",
       " 'street_music']"
      ]
     },
     "execution_count": 4,
     "metadata": {},
     "output_type": "execute_result"
    }
   ],
   "source": [
    "categories"
   ]
  },
  {
   "cell_type": "raw",
   "id": "1b8c83b4-b666-49a9-834f-cd5426f44254",
   "metadata": {},
   "source": [
    "for category in categories:  # do dogs and cats\n",
    "    path = os.path.join(DATADIR,category)  # create path to dogs and cats\n",
    "    for i,img in enumerate(os.listdir(path)):  # iterate over each image per dogs and cats\n",
    "        img_array = cv2.imread(os.path.join(path,img) ) #,cv2.IMREAD_GRAYSCALE)  # convert to array\n",
    "        print(img_array.shape)\n",
    "        plt.imshow(img_array)  # graph it\n",
    "        cropped_image = img_array[34:252, 53:389]\n",
    "        print(cropped_image.shape)\n",
    "        plt.imshow(cropped_image)\n",
    "        plt.show()  # display!\n",
    "\n",
    "        break  # we just want one for now so break\n",
    "    break  #...and one more!"
   ]
  },
  {
   "cell_type": "code",
   "execution_count": 5,
   "id": "26a3c80a-74cd-4f2f-8604-2ff1cd435279",
   "metadata": {},
   "outputs": [],
   "source": [
    "data = []\n",
    "\n",
    "def create_dataset():\n",
    "    for category in categories:  # do dogs and cats\n",
    "\n",
    "        path = os.path.join(DATADIR,category)  # create path to dogs and cats\n",
    "        class_num = categories.index(category)  # get the classification  (0 or a 1). 0=dog 1=cat\n",
    "\n",
    "        for img in tqdm(os.listdir(path)):  # iterate over each image per dogs and cats\n",
    "            try:\n",
    "                img_array = cv2.imread(os.path.join(path,img)) ##,cv2.IMREAD_GRAYSCALE)  # convert to array\n",
    "                #rgb = cv2.cvtColor(img_array, cv2.COLOR_BGR2RGB)\n",
    "                new_array =img_array[34:252, 53:389]\n",
    "                #print(new_array.shape)\n",
    "                rsz=cv2.resize(new_array, (54, 84))\n",
    "                data.append([rsz, class_num])  # add this to our training_data\n",
    "                #plt.axis('off')\n",
    "                #plt.imshow(rsz)\n",
    "                #plt.savefig(\"ragresize.png\")\n",
    "                #break\n",
    "            except Exception as e:  # in the interest in keeping the output clean...\n",
    "                pass\n",
    "            #except OSError as e:\n",
    "            #    print(\"OSErrroBad img most likely\", e, os.path.join(path,img))\n",
    "            #except Exception as e:\n",
    "            #    print(\"general exception\", e, os.path.join(path,img))\n",
    "        #break\n",
    "    return data\n",
    "\n"
   ]
  },
  {
   "cell_type": "code",
   "execution_count": 6,
   "id": "68eaae17-9b16-45e2-81e9-2287c455fe98",
   "metadata": {},
   "outputs": [
    {
     "name": "stderr",
     "output_type": "stream",
     "text": [
      "100%|█████████████████████████████████████████████████████████████████████████████| 1000/1000 [00:07<00:00, 142.12it/s]\n",
      "100%|███████████████████████████████████████████████████████████████████████████████| 429/429 [00:02<00:00, 154.51it/s]\n",
      "100%|█████████████████████████████████████████████████████████████████████████████| 1000/1000 [00:08<00:00, 117.40it/s]\n",
      "100%|█████████████████████████████████████████████████████████████████████████████| 1000/1000 [00:07<00:00, 135.04it/s]\n",
      "100%|█████████████████████████████████████████████████████████████████████████████| 1000/1000 [00:07<00:00, 137.37it/s]\n",
      "100%|█████████████████████████████████████████████████████████████████████████████| 1000/1000 [00:07<00:00, 127.00it/s]\n",
      "100%|███████████████████████████████████████████████████████████████████████████████| 374/374 [00:02<00:00, 154.96it/s]\n",
      "100%|█████████████████████████████████████████████████████████████████████████████| 1000/1000 [00:07<00:00, 138.82it/s]\n",
      "100%|███████████████████████████████████████████████████████████████████████████████| 929/929 [00:07<00:00, 131.79it/s]\n",
      "100%|█████████████████████████████████████████████████████████████████████████████| 1000/1000 [00:07<00:00, 131.93it/s]"
     ]
    },
    {
     "name": "stdout",
     "output_type": "stream",
     "text": [
      "8732\n"
     ]
    },
    {
     "name": "stderr",
     "output_type": "stream",
     "text": [
      "\n"
     ]
    }
   ],
   "source": [
    "data = create_dataset()\n",
    "\n",
    "print(len(data))"
   ]
  },
  {
   "cell_type": "code",
   "execution_count": 7,
   "id": "f3220528-7863-4ce4-af86-1b4138ca3454",
   "metadata": {},
   "outputs": [],
   "source": [
    "X = []\n",
    "Y = []\n",
    "\n",
    "for features,label in data:\n",
    "    X.append(features)\n",
    "    Y.append(label)"
   ]
  },
  {
   "cell_type": "code",
   "execution_count": 8,
   "id": "11ad6ce7-d110-4bc2-90ce-c1947a1ba897",
   "metadata": {},
   "outputs": [],
   "source": [
    "X = np.array(X)\n",
    "Y = np.array(Y)"
   ]
  },
  {
   "cell_type": "code",
   "execution_count": 9,
   "id": "7f5ce3a1-90d2-4138-a354-15a5b6cb989b",
   "metadata": {},
   "outputs": [],
   "source": [
    "import pickle"
   ]
  },
  {
   "cell_type": "code",
   "execution_count": 10,
   "id": "f542a76b-f6b6-4b26-9b03-e8a72dc27573",
   "metadata": {},
   "outputs": [
    {
     "data": {
      "text/plain": [
       "(8732, 84, 54, 3)"
      ]
     },
     "execution_count": 10,
     "metadata": {},
     "output_type": "execute_result"
    }
   ],
   "source": [
    "X.shape"
   ]
  },
  {
   "cell_type": "code",
   "execution_count": 11,
   "id": "ad1fb195-146b-4868-ac1b-47bada5c513f",
   "metadata": {},
   "outputs": [],
   "source": [
    "from sklearn.model_selection import train_test_split"
   ]
  },
  {
   "cell_type": "code",
   "execution_count": 12,
   "id": "93449e3d-86a9-46b1-9e8d-a98a4bcd21bb",
   "metadata": {},
   "outputs": [],
   "source": [
    "X_data, X_test, Y_data, Y_test = train_test_split(X, Y,test_size=0.10, random_state = 50,stratify=Y)"
   ]
  },
  {
   "cell_type": "code",
   "execution_count": 13,
   "id": "e724f312-292d-454d-81a7-d17284c29c67",
   "metadata": {},
   "outputs": [
    {
     "name": "stdout",
     "output_type": "stream",
     "text": [
      "[[  0 900 100]\n",
      " [  1 386  43]\n",
      " [  2 900 100]\n",
      " [  3 900 100]\n",
      " [  4 900 100]\n",
      " [  5 900 100]\n",
      " [  6 336  38]\n",
      " [  7 900 100]\n",
      " [  8 836  93]\n",
      " [  9 900 100]]\n"
     ]
    }
   ],
   "source": [
    "unique1, y_data_n = np.unique(Y_data, return_counts=True)\n",
    "unique2, y_test_n = np.unique(Y_test, return_counts=True)\n",
    "print(np.asarray((unique1, y_data_n, y_test_n)).T)"
   ]
  },
  {
   "cell_type": "code",
   "execution_count": 14,
   "id": "97e58a89-5e89-440b-8689-4f562b4ae5e4",
   "metadata": {},
   "outputs": [],
   "source": [
    "X_train,X_val, Y_train, Y_val = train_test_split(X_data, Y_data,test_size=0.20, random_state = 50, stratify=  Y_data)"
   ]
  },
  {
   "cell_type": "code",
   "execution_count": 15,
   "id": "1d02bcb9-aded-4495-ad7b-275daedee42c",
   "metadata": {},
   "outputs": [],
   "source": [
    "unique1, y_data_n = np.unique(Y_train, return_counts=True)\n",
    "unique2, y_test_n = np.unique(Y_val, return_counts=True)\n",
    "#print(np.asarray((unique1, y_data_n, y_test_n)).T)"
   ]
  },
  {
   "cell_type": "code",
   "execution_count": 16,
   "id": "03d72332-0baa-4d6f-8819-eae739783a8b",
   "metadata": {},
   "outputs": [],
   "source": [
    "def normalizaze_data(X):\n",
    "    X_data = []\n",
    "    for data in X:\n",
    "        data = data / 255\n",
    "        X_data.append(data)\n",
    "    return np.array(X_data)"
   ]
  },
  {
   "cell_type": "code",
   "execution_count": 17,
   "id": "c2383a1b-385a-4b9d-acd7-f1d5ab06959f",
   "metadata": {},
   "outputs": [
    {
     "name": "stdout",
     "output_type": "stream",
     "text": [
      "Wall time: 3.27 s\n"
     ]
    }
   ],
   "source": [
    "%%time\n",
    "x_train = normalizaze_data(X_train)\n",
    "x_val = normalizaze_data(X_val)\n",
    "x_test = normalizaze_data(X_test)"
   ]
  },
  {
   "cell_type": "code",
   "execution_count": 18,
   "id": "95b75c1b-1f92-48c5-b622-4cb273f0c4bf",
   "metadata": {},
   "outputs": [],
   "source": [
    "x_train = x_train.reshape(-1, 54, 84, 3)\n",
    "x_val = x_val.reshape(-1, 54, 84, 3)\n",
    "x_test = x_test.reshape(-1, 54, 84, 3)"
   ]
  },
  {
   "cell_type": "code",
   "execution_count": 19,
   "id": "81ce1b9f-a556-4f43-b29a-2b6032c8d7f4",
   "metadata": {},
   "outputs": [
    {
     "name": "stdout",
     "output_type": "stream",
     "text": [
      "Wall time: 1.99 ms\n"
     ]
    }
   ],
   "source": [
    "%%time\n",
    "y_train =to_categorical(Y_train)\n",
    "y_val = to_categorical(Y_val)\n",
    "y_test =to_categorical(Y_test)"
   ]
  },
  {
   "cell_type": "code",
   "execution_count": 20,
   "id": "ae3c8d38-5ba5-4837-a0e2-56fa5657a413",
   "metadata": {},
   "outputs": [
    {
     "name": "stdout",
     "output_type": "stream",
     "text": [
      "x_train.shape: (6286, 54, 84, 3)\n",
      "y_train.shape: (6286, 10)\n",
      "x_val.shape: (1572, 54, 84, 3)\n",
      "y_val.shape: (1572, 10)\n",
      "x_test.shape: (874, 54, 84, 3)\n",
      "y_test.shape: (874, 10)\n"
     ]
    }
   ],
   "source": [
    "print(f\"x_train.shape: {x_train.shape}\")\n",
    "print(f\"y_train.shape: {y_train.shape}\")\n",
    "print(f\"x_val.shape: {x_val.shape}\")\n",
    "print(f\"y_val.shape: {y_val.shape}\")\n",
    "print(f\"x_test.shape: {x_test.shape}\")\n",
    "print(f\"y_test.shape: {y_test.shape}\")"
   ]
  },
  {
   "cell_type": "code",
   "execution_count": 21,
   "id": "106c4a37-7c5c-4d42-8653-3b16ae87ae8c",
   "metadata": {},
   "outputs": [],
   "source": [
    "pickle_out = open(\"x_train_seed_50.pickle\",\"wb\")\n",
    "pickle.dump(x_train,pickle_out)\n",
    "pickle_out.close()\n",
    "\n",
    "pickle_out = open(\"y_train_seed_50.pickle\",\"wb\")\n",
    "pickle.dump(y_train,pickle_out)\n",
    "pickle_out.close()\n",
    "\n",
    "pickle_out = open(\"x_val_seed_50.pickle\",\"wb\")\n",
    "pickle.dump(x_val,pickle_out)\n",
    "pickle_out.close()\n",
    "\n",
    "pickle_out = open(\"y_val_seed_50.pickle\",\"wb\")\n",
    "pickle.dump(y_val,pickle_out)\n",
    "pickle_out.close()\n",
    "\n",
    "pickle_out = open(\"x_test_seed_50.pickle\",\"wb\")\n",
    "pickle.dump(x_test,pickle_out)\n",
    "pickle_out.close()\n",
    "\n",
    "pickle_out = open(\"y_test_seed_50.pickle\",\"wb\")\n",
    "pickle.dump(y_test,pickle_out)\n",
    "pickle_out.close()"
   ]
  },
  {
   "cell_type": "code",
   "execution_count": null,
   "id": "25bf05f3-a02d-4711-bab8-a157c640584c",
   "metadata": {},
   "outputs": [],
   "source": []
  }
 ],
 "metadata": {
  "kernelspec": {
   "display_name": "Python 3",
   "language": "python",
   "name": "python3"
  },
  "language_info": {
   "codemirror_mode": {
    "name": "ipython",
    "version": 3
   },
   "file_extension": ".py",
   "mimetype": "text/x-python",
   "name": "python",
   "nbconvert_exporter": "python",
   "pygments_lexer": "ipython3",
   "version": "3.8.8"
  }
 },
 "nbformat": 4,
 "nbformat_minor": 5
}
