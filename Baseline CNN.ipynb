{
 "cells": [
  {
   "cell_type": "code",
   "execution_count": 1,
   "id": "9c7fa8ca-ce62-4d67-8110-40f074737b49",
   "metadata": {},
   "outputs": [],
   "source": [
    "import os\n",
    "import cv2\n",
    "import pickle\n",
    "import numpy as np\n",
    "import tensorflow as tf\n",
    "import matplotlib.pyplot as plt\n",
    "from tensorflow.keras.models import Sequential\n",
    "from tensorflow.keras.utils import to_categorical\n",
    "from tensorflow.keras.layers import Dense, Dropout, Activation, Flatten\n",
    "from tensorflow.keras.layers import Conv2D, MaxPooling2D\n",
    "from sklearn.model_selection import train_test_split\n",
    "from keras import losses, models, optimizers\n",
    "from keras.callbacks import (EarlyStopping, LearningRateScheduler,\n",
    "                             ModelCheckpoint, TensorBoard, ReduceLROnPlateau)"
   ]
  },
  {
   "cell_type": "code",
   "execution_count": 2,
   "id": "502f9791-be89-431c-8ce2-1d845f90d6f4",
   "metadata": {},
   "outputs": [],
   "source": [
    "x_train = pickle.load(open(\"x_train_200X200.pickle\",'rb'))\n",
    "y_train = pickle.load(open(\"y_train_200X200.pickle\",'rb'))\n",
    "\n",
    "x_val = pickle.load(open(\"x_val_200X200.pickle\",'rb'))\n",
    "y_val = pickle.load(open(\"y_val_200X200.pickle\",'rb'))\n",
    "\n",
    "x_test = pickle.load(open(\"x_test_200X200.pickle\",'rb'))\n",
    "y_test = pickle.load(open(\"y_test_200X200.pickle\",'rb'))"
   ]
  },
  {
   "cell_type": "code",
   "execution_count": 3,
   "id": "32d3d00a-5989-4a72-9fbd-beae5f7dc0cd",
   "metadata": {},
   "outputs": [
    {
     "name": "stdout",
     "output_type": "stream",
     "text": [
      "x_train.shape: (6286, 100, 100, 3)\n",
      "y_train.shape: (6286, 10)\n",
      "x_val.shape: (1572, 100, 100, 3)\n",
      "y_val.shape: (1572, 10)\n",
      "x_val.shape: (874, 100, 100, 3)\n",
      "y_val.shape: (874, 10)\n"
     ]
    }
   ],
   "source": [
    "print(f\"x_train.shape: {x_train.shape}\")\n",
    "print(f\"y_train.shape: {y_train.shape}\")\n",
    "print(f\"x_val.shape: {x_val.shape}\")\n",
    "print(f\"y_val.shape: {y_val.shape}\")\n",
    "print(f\"x_val.shape: {x_test.shape}\")\n",
    "print(f\"y_val.shape: {y_test.shape}\")"
   ]
  },
  {
   "cell_type": "raw",
   "id": "dd50d81d-1a32-44f7-9a4f-484014e7a8da",
   "metadata": {},
   "source": [
    "#Image Data Augmentation\n",
    "from keras.preprocessing.image import ImageDataGenerator\n",
    "\n",
    "train_generator = ImageDataGenerator(rotation_range=2, horizontal_flip=True,zoom_range=.1 )\n",
    "\n",
    "val_generator = ImageDataGenerator(rotation_range=2, horizontal_flip=True,zoom_range=.1)\n",
    "\n",
    "test_generator = ImageDataGenerator(rotation_range=2, horizontal_flip= True,zoom_range=.1)\n",
    "\n",
    "#Fitting the augmentation defined above to the data\n",
    "train_generator.fit(x_train)\n",
    "val_generator.fit(x_val)\n",
    "test_generator.fit(x_test)"
   ]
  },
  {
   "cell_type": "code",
   "execution_count": 4,
   "id": "f7c79618-9243-41a6-a4b7-ab1b130b2cba",
   "metadata": {},
   "outputs": [],
   "source": [
    "model = Sequential()\n",
    "\n",
    "model.add(Conv2D(64, (3, 3), input_shape=x_train.shape[1:]))\n",
    "model.add(Activation('relu'))\n",
    "model.add(MaxPooling2D(pool_size=(2, 2)))\n",
    "model.add(Dropout(0.3))\n",
    "\n",
    "model.add(Conv2D(128, (3, 3)))\n",
    "model.add(Activation('relu'))\n",
    "model.add(MaxPooling2D(pool_size=(2, 2)))\n",
    "model.add(Dropout(0.4))\n",
    "\n",
    "model.add(Conv2D(256, (3, 3)))\n",
    "model.add(Activation('relu'))\n",
    "model.add(MaxPooling2D(pool_size=(2, 2)))\n",
    "model.add(Dropout(0.5))\n",
    "\n",
    "model.add(Conv2D(512, (3, 3)))\n",
    "model.add(Activation('relu'))\n",
    "model.add(MaxPooling2D(pool_size=(2, 2)))\n",
    "model.add(Dropout(0.5))\n",
    "\n",
    "model.add(Flatten())  # this converts our 3D feature maps to 1D feature vectors\n",
    "model.add(Dense(256, activation = \"relu\"))\n",
    "model.add(Dense(100, activation = \"relu\"))\n",
    "model.add(Dense(64, activation = \"relu\"))\n",
    "model.add(Dense(10))\n",
    "model.add(Activation('softmax'))\n",
    "\n",
    "# model.summary()\n"
   ]
  },
  {
   "cell_type": "code",
   "execution_count": 5,
   "id": "c47f0461-d32e-4598-870b-7c5c64173909",
   "metadata": {},
   "outputs": [],
   "source": [
    "from tensorflow.keras.optimizers import Adam"
   ]
  },
  {
   "cell_type": "code",
   "execution_count": 6,
   "id": "b5052d4b-2abd-4ce2-b6ff-922cb9cf4d4a",
   "metadata": {},
   "outputs": [],
   "source": [
    "opt = tf.optimizers.Adam(0.001)\n",
    "\n",
    "model.compile(loss='categorical_crossentropy',\n",
    "              optimizer=opt,\n",
    "              metrics=['accuracy'])\n",
    "\n",
    "MAX_PATIENT=5\n",
    "MAX_EPOCHS=150\n",
    "MAX_BATCH=128\n",
    "checkpoint = ModelCheckpoint('seed_100x100CNN.h5', monitor='val_loss', verbose=1, save_best_only=True)\n",
    "early = EarlyStopping(monitor=\"val_loss\", mode=\"min\", patience=MAX_PATIENT)\n",
    "ReduceLR = ReduceLROnPlateau(monitpr = 'val_loss',factor=0.1,patience=3, verbose=1)\n",
    "callbacks_list = [checkpoint,ReduceLR, early]"
   ]
  },
  {
   "cell_type": "code",
   "execution_count": null,
   "id": "6081cfcf-cc15-491a-9933-4dd3be51eb0a",
   "metadata": {},
   "outputs": [
    {
     "name": "stdout",
     "output_type": "stream",
     "text": [
      "[INFO] Training Start---------please Wait\n",
      "Epoch 1/150\n",
      "197/197 [==============================] - 515s 3s/step - loss: 2.0351 - accuracy: 0.2292 - val_loss: 1.9300 - val_accuracy: 0.3123\n",
      "\n",
      "Epoch 00001: val_loss improved from inf to 1.92997, saving model to seed_100x100CNN.h5\n",
      "Epoch 2/150\n",
      "197/197 [==============================] - 492s 2s/step - loss: 1.7301 - accuracy: 0.3605 - val_loss: 1.4049 - val_accuracy: 0.5108\n",
      "\n",
      "Epoch 00002: val_loss improved from 1.92997 to 1.40491, saving model to seed_100x100CNN.h5\n",
      "Epoch 3/150\n",
      "197/197 [==============================] - 502s 3s/step - loss: 1.3195 - accuracy: 0.5186 - val_loss: 1.1884 - val_accuracy: 0.5833\n",
      "\n",
      "Epoch 00003: val_loss improved from 1.40491 to 1.18845, saving model to seed_100x100CNN.h5\n",
      "Epoch 4/150\n",
      "197/197 [==============================] - 483s 2s/step - loss: 1.0537 - accuracy: 0.6281 - val_loss: 0.9872 - val_accuracy: 0.6616\n",
      "\n",
      "Epoch 00004: val_loss improved from 1.18845 to 0.98717, saving model to seed_100x100CNN.h5\n",
      "Epoch 5/150\n",
      "197/197 [==============================] - 470s 2s/step - loss: 0.8974 - accuracy: 0.6793 - val_loss: 0.8671 - val_accuracy: 0.6947\n",
      "\n",
      "Epoch 00005: val_loss improved from 0.98717 to 0.86707, saving model to seed_100x100CNN.h5\n",
      "Epoch 6/150\n",
      "197/197 [==============================] - 401s 2s/step - loss: 0.7947 - accuracy: 0.7214 - val_loss: 0.7182 - val_accuracy: 0.7475\n",
      "\n",
      "Epoch 00006: val_loss improved from 0.86707 to 0.71825, saving model to seed_100x100CNN.h5\n",
      "Epoch 7/150\n",
      "197/197 [==============================] - 381s 2s/step - loss: 0.6746 - accuracy: 0.7647 - val_loss: 0.7318 - val_accuracy: 0.7494\n",
      "\n",
      "Epoch 00007: val_loss did not improve from 0.71825\n",
      "Epoch 8/150\n",
      "197/197 [==============================] - 380s 2s/step - loss: 0.6092 - accuracy: 0.7924 - val_loss: 0.6118 - val_accuracy: 0.8079\n",
      "\n",
      "Epoch 00008: val_loss improved from 0.71825 to 0.61180, saving model to seed_100x100CNN.h5\n",
      "Epoch 9/150\n",
      "197/197 [==============================] - 386s 2s/step - loss: 0.5613 - accuracy: 0.8067 - val_loss: 0.6508 - val_accuracy: 0.7799\n",
      "\n",
      "Epoch 00009: val_loss did not improve from 0.61180\n",
      "Epoch 10/150\n",
      "197/197 [==============================] - 421s 2s/step - loss: 0.5026 - accuracy: 0.8217 - val_loss: 0.5799 - val_accuracy: 0.8047\n",
      "\n",
      "Epoch 00010: val_loss improved from 0.61180 to 0.57995, saving model to seed_100x100CNN.h5\n",
      "Epoch 11/150\n",
      "197/197 [==============================] - 447s 2s/step - loss: 0.4761 - accuracy: 0.8360 - val_loss: 0.6781 - val_accuracy: 0.7793\n",
      "\n",
      "Epoch 00011: val_loss did not improve from 0.57995\n",
      "Epoch 12/150\n",
      "197/197 [==============================] - 435s 2s/step - loss: 0.4341 - accuracy: 0.8484 - val_loss: 0.5946 - val_accuracy: 0.7990\n",
      "\n",
      "Epoch 00012: val_loss did not improve from 0.57995\n",
      "Epoch 13/150\n",
      " 47/197 [======>.......................] - ETA: 4:59 - loss: 0.3568 - accuracy: 0.8797"
     ]
    }
   ],
   "source": [
    "%%time\n",
    "print(\"[INFO] Training Start---------please Wait\")\n",
    "history = model.fit(x_train, y_train,\n",
    "                    batch_size = 32,\n",
    "                    epochs = MAX_EPOCHS, \n",
    "                    validation_data =(x_val, y_val),\n",
    "                    verbose = 1,\n",
    "                   callbacks = callbacks_list)\n",
    "print(\"[INFO] Training Finished!!!\")"
   ]
  },
  {
   "cell_type": "code",
   "execution_count": 11,
   "id": "bcaee477-e314-40b3-b8f5-9c3b7f58c030",
   "metadata": {},
   "outputs": [
    {
     "data": {
      "image/png": "[encoded data removed]",
      "text/plain": [
       "<Figure size 720x720 with 1 Axes>"
      ]
     },
     "metadata": {
      "needs_background": "light"
     },
     "output_type": "display_data"
    }
   ],
   "source": [
    "acc_1 = history.history['accuracy']\n",
    "val_acc_1 = history.history['val_accuracy']\n",
    "loss_1 = history.history['loss']\n",
    "val_loss_1 = history.history['val_loss']\n",
    "epochs_1 = range(1, len(acc_1) + 1)\n",
    "\n",
    "plt.figure(figsize=(10,10))\n",
    "plt.grid()\n",
    "plt.plot(epochs_1, acc_1, 'b',marker='o', label='Training acc')\n",
    "plt.plot(epochs_1, val_acc_1, 'r',marker='o', label='Validation acc')\n",
    "plt.title('Training and validation accuracy')\n",
    "plt.legend()\n",
    "\n",
    "plt.plot(epochs_1, loss_1, 'm',marker='o', label='Training loss')\n",
    "plt.plot(epochs_1, val_loss_1, 'g',marker='o', label='Validation loss')\n",
    "plt.title('Training and validation loss')\n",
    "plt.legend()\n",
    "plt.show()"
   ]
  },
  {
   "cell_type": "code",
   "execution_count": 12,
   "id": "f77de2b0-9f09-425f-9840-25aadc5dcc12",
   "metadata": {},
   "outputs": [
    {
     "name": "stdout",
     "output_type": "stream",
     "text": [
      "197/197 [==============================] - 48s 244ms/step - loss: 0.0335 - accuracy: 0.9932\n",
      "model train data score_m1       :[0.0334630012512207, 0.9931594133377075]\n",
      "50/50 [==============================] - 12s 233ms/step - loss: 0.5198 - accuracy: 0.8791\n",
      "model validation data score_m1  :[0.5198119878768921, 0.8791348338127136]\n",
      "28/28 [==============================] - 7s 256ms/step - loss: 0.5087 - accuracy: 0.8822\n",
      "model Test data score_m1        :[0.5087111592292786, 0.8821510076522827]\n",
      "Wall time: 1min 11s\n"
     ]
    }
   ],
   "source": [
    "%%time\n",
    "# Keras reported accuracy:\n",
    "train_score_m1 = model.evaluate(x_train, y_train, verbose=1) \n",
    "print (f\"model train data score_m1       :{train_score_m1}\")\n",
    "\n",
    "val_score_m1 = model.evaluate(x_val, y_val, verbose=1) \n",
    "print (f\"model validation data score_m1  :{val_score_m1}\")\n",
    "\n",
    "test_score_m1 = model.evaluate(x_test, y_test, verbose=1) \n",
    "print (f\"model Test data score_m1        :{test_score_m1}\")"
   ]
  },
  {
   "cell_type": "code",
   "execution_count": null,
   "id": "fa8cd0b9-1c8a-45b7-bb54-c995b2b34816",
   "metadata": {},
   "outputs": [],
   "source": []
  }
 ],
 "metadata": {
  "kernelspec": {
   "display_name": "Python 3",
   "language": "python",
   "name": "python3"
  },
  "language_info": {
   "codemirror_mode": {
    "name": "ipython",
    "version": 3
   },
   "file_extension": ".py",
   "mimetype": "text/x-python",
   "name": "python",
   "nbconvert_exporter": "python",
   "pygments_lexer": "ipython3",
   "version": "3.8.8"
  }
 },
 "nbformat": 4,
 "nbformat_minor": 5
}
